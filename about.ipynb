{
  "cells": [
    {
      "cell_type": "raw",
      "metadata": {},
      "source": [
        "---\n",
        "title: \"Project Background\"\n",
        "---"
      ],
      "id": "6748c215"
    },
    {
      "cell_type": "markdown",
      "metadata": {},
      "source": [
        "You can read the original project proposal [here](https://eapower.github.io/EPower_Leverhulme_Research_Leadership_Award_Bid.pdf). \n",
        "\n",
        "\n",
        "```{html}\n",
        "<object data=\"https://eapower.github.io/EPower_Leverhulme_Research_Leadership_Award_Bid.pdf\" type = \"application/pdf\" width = \"100%\">\n",
        "</object>\n",
        "```"
      ],
      "id": "dd8911a2"
    }
  ],
  "metadata": {
    "kernelspec": {
      "display_name": "Python 3",
      "language": "python",
      "name": "python3"
    }
  },
  "nbformat": 4,
  "nbformat_minor": 5
}